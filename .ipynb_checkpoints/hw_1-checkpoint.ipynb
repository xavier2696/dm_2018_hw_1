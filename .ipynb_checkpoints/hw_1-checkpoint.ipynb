{
 "cells": [
  {
   "cell_type": "markdown",
   "metadata": {},
   "source": [
    "### Student Information\n",
    "Name: Kelvin Xavier Munguia Velez\n",
    "\n",
    "Student ID: 107065424\n",
    "\n",
    "GitHub ID: xavier2696"
   ]
  },
  {
   "cell_type": "markdown",
   "metadata": {},
   "source": [
    "---"
   ]
  },
  {
   "cell_type": "markdown",
   "metadata": {},
   "source": [
    "### Instructions"
   ]
  },
  {
   "cell_type": "markdown",
   "metadata": {},
   "source": [
    "- First, you should attempt the **take home** exercises provided in the [notebook](https://github.com/omarsar/data_mining_lab/blob/master/news_data_mining.ipynb) we used for the first lab session. Attempt all the exercises, as it is counts towards the final grade of your first assignment (20%). \n",
    "\n",
    "- Then, download the dataset provided in this [link](https://archive.ics.uci.edu/ml/datasets/Sentiment+Labelled+Sentences#). The sentiment dataset contains a `sentence` and `score` label. Read the specificiations of the dataset before you start exploring it. \n",
    "\n",
    "\n",
    "- Then, you are asked to apply each of the data exploration and data operation steps learned in the [first lab session](https://github.com/omarsar/data_mining_lab) on **the new dataset**. You don't need to explain all the procedures as we did in the notebook, but you are expected to provide some **minimal comments** explaining your code. You are also expected to use the same libraries used in the first lab session. You are allowed to use and modify the `helper` functions we provided in the first lab session or create your own. Also, be aware that the helper functions may need modification as you are dealing with a completely different dataset. This part is worth 30% of your grade!\n",
    "\n",
    "- In addition to applying the same operations from the first lab, we are asking that you attempt the following tasks on the new sentiment dataset as well (40%):\n",
    "    - Use your creativity and imagination to generate **new data visualizations**. Refer to online resources and the Data Mining textbook for inspiration and ideas. \n",
    "    - Generate **TF-IDF features** from the tokens of each text. Refer to this Sciki-learn [guide](http://scikit-learn.org/stable/modules/generated/sklearn.feature_extraction.text.TfidfVectorizer.html) on how you may go about doing this. Keep in mind that you are generating a matrix similar to the term-document matrix we implemented in our first lab session. However, the weights will be computed differently and should represent the TF-IDF value of each word per document as opposed to the word frequency.\n",
    "    - Using both the TF-IDF and word frequency features, try to compute the **similarity** between random sentences and report results. Read the \"distance simiilarity\" section of the Data Mining textbook on what measures you can use here. [Cosine similarity](https://jamesmccaffrey.wordpress.com/2017/03/29/the-cosine-similarity-of-two-sentences/) is one of these methods but there are others. Try to explore a few of them in this exercise and report the differences in result. \n",
    "    - Lastly, implement a simple **Naive Bayes classifier** that automatically classifies the records into their categories. Try to implement this using scikit-learn built in classifiers and use both the TF-IDF features and word frequency features to build two seperate classifiers. Refer to this [nice article](https://hub.packtpub.com/implementing-3-naive-bayes-classifiers-in-scikit-learn/) on how to build this type of classifier using scikit-learn. Report the classification accuracy of both your models. If you are struggling with this step please reach us on Slack as soon as possible.   \n",
    "\n",
    "\n",
    "- Presentation matters! You are also expected to **tidy up your notebook** and attempt new data operations and techniques that you have learned so far in the Data Mining course. Surprise us! This segment is worth 10% of your grade. The idea of this exercise is to begin thinking of how you will program the concepts you have learned and the process that is involved. \n",
    "\n",
    "\n",
    "- After completing all the above tasks, you are free to remove this header block and **submit** your assignment following the guide provided in the [README.md](https://github.com/omarsar/dm_2018_hw_1/blob/master/README.md) file of the assignment's repository. "
   ]
  },
  {
   "cell_type": "code",
   "execution_count": 1,
   "metadata": {},
   "outputs": [],
   "source": [
    "### Begin Assignment Here!"
   ]
  },
  {
   "cell_type": "code",
   "execution_count": 2,
   "metadata": {},
   "outputs": [],
   "source": [
    "%load_ext autoreload\n",
    "%autoreload 2"
   ]
  },
  {
   "cell_type": "code",
   "execution_count": 3,
   "metadata": {},
   "outputs": [
    {
     "name": "stdout",
     "output_type": "stream",
     "text": [
      "[nltk_data] Downloading package punkt to\n",
      "[nltk_data]     C:\\Users\\xavie\\AppData\\Roaming\\nltk_data...\n",
      "[nltk_data]   Package punkt is already up-to-date!\n"
     ]
    }
   ],
   "source": [
    "#imports and setup\n",
    "import pandas as pd\n",
    "import helpers.data_mining_helpers as dmh\n",
    "import nltk\n",
    "nltk.download('punkt')\n",
    "import numpy as np\n",
    "from sklearn.feature_extraction.text import CountVectorizer\n",
    "import matplotlib.pyplot as plt\n",
    "%matplotlib inline\n",
    "import seaborn as sns\n",
    "from sklearn.decomposition import PCA\n",
    "from mpl_toolkits import mplot3d\n",
    "import plotly\n",
    "plotly.tools.set_credentials_file(username='xavier2696', api_key='97cuXMXYTejnMxo9gpIk')\n",
    "import plotly.plotly as py\n",
    "import plotly.graph_objs as go\n",
    "from plotly import tools\n",
    "from sklearn import preprocessing, metrics, decomposition, pipeline, dummy\n",
    "from sklearn.feature_extraction.text import TfidfVectorizer\n",
    "from sklearn.metrics.pairwise import cosine_similarity\n",
    "from scipy.stats.stats import pearsonr\n",
    "from sklearn.naive_bayes import MultinomialNB"
   ]
  },
  {
   "cell_type": "code",
   "execution_count": 4,
   "metadata": {},
   "outputs": [],
   "source": [
    "#load data into python array\n",
    "sentiment_data_array = []\n",
    "with open(\"sentiment_labelled_sentences_data/amazon_cells_labelled.txt\",\"r\") as amazon_data:\n",
    "    sentiment_data_array += [string + '\\tamazon' for string in amazon_data.read().split('\\n')]\n",
    "with open(\"sentiment_labelled_sentences_data/imdb_labelled.txt\",\"r\") as imdb_data:\n",
    "    sentiment_data_array += [string + '\\timdb' for string in imdb_data.read().split('\\n')]\n",
    "with open(\"sentiment_labelled_sentences_data/yelp_labelled.txt\",\"r\") as yelp_data:\n",
    "    sentiment_data_array += [string + '\\tyelp' for string in yelp_data.read().split('\\n')]\n",
    "\n",
    "sentiment_data = dmh.sentiment_data_dictionary(sentiment_data_array)"
   ]
  },
  {
   "cell_type": "code",
   "execution_count": 5,
   "metadata": {},
   "outputs": [
    {
     "name": "stdout",
     "output_type": "stream",
     "text": [
      "  score                                           sentence  source\n",
      "0     0  So there is no way for me to plug it in here i...  amazon\n",
      "1     1                        Good case, Excellent value.  amazon\n",
      "2     1                             Great for the jawbone.  amazon\n",
      "3     0  Tied to charger for conversations lasting more...  amazon\n",
      "4     1                                  The mic is great.  amazon\n",
      "5     0  I have to jiggle the plug to get it to line up...  amazon\n",
      "6     0  If you have several dozen or several hundred c...  amazon\n",
      "7     1        If you are Razr owner...you must have this!  amazon\n",
      "8     0                Needless to say, I wasted my money.  amazon\n",
      "9     0                   What a waste of money and time!.  amazon\n"
     ]
    }
   ],
   "source": [
    "# create dataframe\n",
    "sentiment_data_df = pd.DataFrame.from_records(data = {\"sentence\":sentiment_data['sentences'], \"score\":sentiment_data['scores'], \"source\":sentiment_data['sources']})\n",
    "print(sentiment_data_df[:10])"
   ]
  },
  {
   "cell_type": "code",
   "execution_count": 6,
   "metadata": {},
   "outputs": [
    {
     "data": {
      "text/plain": [
       "score       The amoung of missing records is: 0\n",
       "sentence    The amoung of missing records is: 0\n",
       "source      The amoung of missing records is: 0\n",
       "dtype: object"
      ]
     },
     "execution_count": 6,
     "metadata": {},
     "output_type": "execute_result"
    }
   ],
   "source": [
    "#data exploration and data operation\n",
    "#check for missing values\n",
    "sentiment_data_df.isnull().apply(lambda x: dmh.check_missing_values(x))\n",
    "#there are no missing values in the dataset, the sentiment_data_dictionary method in the helpers file will\n",
    "#ignore any rows that contain either a sentence none value or a score none value\n",
    "\n",
    "#in this case I think it is better to ignore the rows that contain a none value because there is no way to generate\n",
    "#a sentence if it is missing and if we try to estimate a 0 or 1 value for the score it will just contaminate the data"
   ]
  },
  {
   "cell_type": "code",
   "execution_count": 7,
   "metadata": {},
   "outputs": [
    {
     "name": "stdout",
     "output_type": "stream",
     "text": [
      "Number of rows before cleaning: 3000\n",
      "Duplicated rows: 17\n",
      "Number of rows after cleaning: 2966\n"
     ]
    }
   ],
   "source": [
    "#check if there are duplicated rows and remove them\n",
    "duplicates = sum(sentiment_data_df.duplicated('sentence'))\n",
    "print('Number of rows before cleaning: %d' % len(sentiment_data_df))\n",
    "print('Duplicated rows: %d' % duplicates)\n",
    "if duplicates > 0:\n",
    "    sentiment_data_df.drop_duplicates(keep=False, inplace=True)\n",
    "sentiment_data_df.reset_index(drop=True, inplace=True) #necessary because I discovered that after droping the duplicates the index\n",
    "#keeps the old original values and when trying to access values with [] the wrong values were being returned\n",
    "print('Number of rows after cleaning: %d' % len(sentiment_data_df))"
   ]
  },
  {
   "cell_type": "code",
   "execution_count": 8,
   "metadata": {},
   "outputs": [],
   "source": [
    "#sampling\n",
    "n = 500\n",
    "sentiment_data_sample = sentiment_data_df.sample(n=n, random_state=26)"
   ]
  },
  {
   "cell_type": "code",
   "execution_count": 9,
   "metadata": {},
   "outputs": [
    {
     "name": "stdout",
     "output_type": "stream",
     "text": [
      "AxesSubplot(0.125,0.125;0.775x0.755)\n"
     ]
    },
    {
     "data": {
      "image/png": "[encoded data removed]",
      "text/plain": [
       "<Figure size 576x288 with 1 Axes>"
      ]
     },
     "metadata": {
      "needs_background": "light"
     },
     "output_type": "display_data"
    }
   ],
   "source": [
    "#show the sampling and actual data counts in a bar graph\n",
    "sample_counts = sentiment_data_sample.score.value_counts()\n",
    "actual_counts = sentiment_data_df.score.value_counts()\n",
    "\n",
    "combined_data_frame = pd.DataFrame({'data': actual_counts,\n",
    "                    'sample': sample_counts})\n",
    "\n",
    "print(combined_data_frame.plot.bar(title = 'Sentiment Distribution', rot = 0, fontsize = 12, figsize = (8,4), tick_label = ['negative', 'positive']))"
   ]
  },
  {
   "cell_type": "code",
   "execution_count": 31,
   "metadata": {},
   "outputs": [
    {
     "name": "stdout",
     "output_type": "stream",
     "text": [
      "imdb      994\n",
      "yelp      992\n",
      "amazon    980\n",
      "Name: source, dtype: int64\n"
     ]
    },
    {
     "data": {
      "text/html": [
       "<iframe id=\"igraph\" scrolling=\"no\" style=\"border:none;\" seamless=\"seamless\" src=\"https://plot.ly/~xavier2696/15.embed\" height=\"525px\" width=\"100%\"></iframe>"
      ],
      "text/plain": [
       "<plotly.tools.PlotlyDisplay object>"
      ]
     },
     "execution_count": 31,
     "metadata": {},
     "output_type": "execute_result"
    }
   ],
   "source": [
    "#new data visualization\n",
    "#pie  chart\n",
    "print(sentiment_data_df.source.value_counts())\n",
    "trace = go.Pie(labels=sentiment_data_df.source.value_counts().index, values=sentiment_data_df.source.value_counts())\n",
    "\n",
    "py.iplot([trace], filename='basic_pie_chart')"
   ]
  },
  {
   "cell_type": "code",
   "execution_count": 67,
   "metadata": {},
   "outputs": [
    {
     "name": "stdout",
     "output_type": "stream",
     "text": [
      "Average word count in each positive sentence:  13.063829787234043\n",
      "Average word count in each negative sentence:  13.60377358490566\n"
     ]
    },
    {
     "data": {
      "text/html": [
       "<iframe id=\"igraph\" scrolling=\"no\" style=\"border:none;\" seamless=\"seamless\" src=\"https://plot.ly/~xavier2696/17.embed\" height=\"525px\" width=\"100%\"></iframe>"
      ],
      "text/plain": [
       "<plotly.tools.PlotlyDisplay object>"
      ]
     },
     "execution_count": 67,
     "metadata": {},
     "output_type": "execute_result"
    }
   ],
   "source": [
    "#show the relation between the word count in each sentence and what sentiment it is attached to\n",
    "sentiment_data_sample_2 = sentiment_data_df.sample(n = 100)\n",
    "x_axis_array = [\"sentence_\" + str(index) for index in sentiment_data_sample_2.index]\n",
    "word_count_trace = go.Scatter(\n",
    "    x = x_axis_array,\n",
    "    y = [len(sentence.split(' ')) for sentence in sentiment_data_sample_2.sentence],\n",
    "    mode = 'lines+markers',\n",
    "    name = 'Sentence Word Count'\n",
    ")\n",
    "         \n",
    "word_sentiment_trace = go.Scatter(\n",
    "    x = x_axis_array,\n",
    "    y = [score for score in sentiment_data_sample_2.score],\n",
    "    mode = 'lines+markers',\n",
    "    name = 'Sentence Score'\n",
    ")\n",
    "         \n",
    "scatter_plot = [word_count_trace, word_sentiment_trace]\n",
    "\n",
    "positive_sentences_array = [len(row.sentence.split(' ')) for index, row in sentiment_data_sample_2.iterrows() if row.score == '1']\n",
    "print('Average word count in each positive sentence: ', sum(positive_sentences_array)/len(positive_sentences_array))\n",
    "\n",
    "negative_sentences_array = [len(row.sentence.split(' ')) for index, row in sentiment_data_sample_2.iterrows() if row.score == '0']\n",
    "print('Average word count in each negative sentence: ', sum(negative_sentences_array)/len(negative_sentences_array))\n",
    "\n",
    "py.iplot(scatter_plot, filename='Scatter Plot')"
   ]
  },
  {
   "cell_type": "code",
   "execution_count": null,
   "metadata": {},
   "outputs": [],
   "source": [
    "#after running the cell above various times I can conclude there is no visible relation between the number of words\n",
    "#in a sentence and it's score(positive or negative)"
   ]
  },
  {
   "cell_type": "code",
   "execution_count": 55,
   "metadata": {},
   "outputs": [],
   "source": [
    "#feature creation\n",
    "#unigrams\n",
    "sentiment_data_df['unigrams'] = sentiment_data_df['sentence'].apply(lambda x: dmh.tokenize_text(x))"
   ]
  },
  {
   "cell_type": "code",
   "execution_count": null,
   "metadata": {},
   "outputs": [],
   "source": [
    "#feature subset selection\n",
    "count_vect = CountVectorizer()\n",
    "frequency_counts = count_vect.fit_transform(sentiment_data_df.sentence)\n",
    "print(\"Document Term Matrix Size:\", frequency_counts.shape)"
   ]
  },
  {
   "cell_type": "code",
   "execution_count": null,
   "metadata": {},
   "outputs": [],
   "source": [
    "#heaptmap visualization\n",
    "sample_count_vect = CountVectorizer()\n",
    "sample_counts = sample_count_vect.fit_transform(sentiment_data_sample.sentence)\n",
    "plot_x = [\"term_\"+str(i) for i in sample_count_vect.get_feature_names()[0:n]]\n",
    "plot_y = [\"doc_\"+ str(i) for i in list(sentiment_data_sample.index)[:n]]\n",
    "plot_z = sample_counts[0:n, 0:n].toarray()\n",
    "df_todraw = pd.DataFrame(plot_z, columns = plot_x, index = plot_y)\n",
    "plt.subplots(figsize=(18, 14))\n",
    "ax = sns.heatmap(df_todraw,\n",
    "                 cmap=\"PuRd\",\n",
    "                 vmin=0, annot=False)"
   ]
  },
  {
   "cell_type": "code",
   "execution_count": null,
   "metadata": {},
   "outputs": [],
   "source": [
    "#dimensionality reduction\n",
    "#2 dimension PCA\n",
    "colors = ['coral', 'blue']\n",
    "scores = ['0','1']\n",
    "\n",
    "sentiment_data_reduced2 = PCA(n_components = 2).fit_transform(frequency_counts.toarray())\n",
    "\n",
    "fig = plt.figure(figsize = (25,10))\n",
    "ax = fig.subplots()\n",
    "\n",
    "for c, score in zip(colors, scores):\n",
    "    xs = sentiment_data_reduced2[sentiment_data_df['score'] == score].T[0]\n",
    "    ys = sentiment_data_reduced2[sentiment_data_df['score'] == score].T[1]\n",
    "   \n",
    "    ax.scatter(xs, ys, c = c, marker='o')\n",
    "\n",
    "ax.grid(color='gray', linestyle=':', linewidth=2, alpha=0.2)\n",
    "ax.set_xlabel('\\nX Label')\n",
    "ax.set_ylabel('\\nY Label')\n",
    "\n",
    "plt.show()"
   ]
  },
  {
   "cell_type": "code",
   "execution_count": null,
   "metadata": {},
   "outputs": [],
   "source": [
    "#3 dimension PCA\n",
    "sentiment_data_reduced3 = PCA(n_components = 3).fit_transform(frequency_counts.toarray())\n",
    "fig = plt.figure(figsize = (25,10))\n",
    "\n",
    "ax1 = fig.add_subplot(1,1,1, projection='3d')\n",
    "\n",
    "for c, score in zip(colors, scores):\n",
    "    xs = sentiment_data_reduced3[sentiment_data_df['score'] == score].T[0]\n",
    "    ys = sentiment_data_reduced3[sentiment_data_df['score'] == score].T[1]\n",
    "    zs = sentiment_data_reduced3[sentiment_data_df['score'] == score].T[2]\n",
    "    \n",
    "    ax1.scatter3D(xs, ys, zs, c= c, marker = 'o')\n",
    "\n",
    "ax1.grid(color='gray', linestyle=':', linewidth=2, alpha=0.2)\n",
    "ax1.set_xlabel('\\nX Label')\n",
    "ax1.set_ylabel('\\nY Label')\n",
    "ax1.set_zlabel('\\nZ Label')\n",
    "ax1.view_init(25, 45)\n",
    "\n",
    "plt.show()"
   ]
  },
  {
   "cell_type": "code",
   "execution_count": null,
   "metadata": {},
   "outputs": [],
   "source": [
    "#attribute transformation/aggregation\n",
    "#create a term frequencies array\n",
    "term_frequencies = np.asarray(frequency_counts.sum(axis=0))[0]\n",
    "\n",
    "#term frequencies visualization\n",
    "data = [go.Bar(\n",
    "            x=[\"term_\"+str(i) for i in count_vect.get_feature_names()],\n",
    "            y=term_frequencies\n",
    "    )]\n",
    "\n",
    "py.iplot(data, filename='Term Frequencies')\n"
   ]
  },
  {
   "cell_type": "code",
   "execution_count": null,
   "metadata": {},
   "outputs": [],
   "source": [
    "#ordered term frequencies visualization\n",
    "term_frequencies_df = pd.DataFrame({'terms': count_vect.get_feature_names(), \n",
    "                                            'counts': term_frequencies})\n",
    "ordered_term_frequencies_df = term_frequencies_df.sort_values(by = 'counts', ascending = False)\n",
    "ordered_data = [go.Bar(\n",
    "            x=[\"term_\"+str(i) for i in ordered_term_frequencies_df['terms']],\n",
    "            y=ordered_term_frequencies_df['counts']\n",
    "    )]\n",
    "\n",
    "py.iplot(ordered_data, filename = 'Ordered Data Terms')"
   ]
  },
  {
   "cell_type": "code",
   "execution_count": null,
   "metadata": {},
   "outputs": [],
   "source": [
    "#binarization\n",
    "#I will appy binarization to the source parameter because it does not make sense to apply it to the score which only has 2 \n",
    "#possible values\n",
    "mlb = preprocessing.LabelBinarizer()\n",
    "mlb.fit(sentiment_data_df.source)\n",
    "sentiment_data_df['bin_source'] = mlb.transform(sentiment_data_df['source']).tolist()\n",
    "sentiment_data_df[0:9]"
   ]
  },
  {
   "cell_type": "code",
   "execution_count": null,
   "metadata": {},
   "outputs": [],
   "source": [
    "sentiment_data_df[-9::]"
   ]
  },
  {
   "cell_type": "code",
   "execution_count": null,
   "metadata": {},
   "outputs": [],
   "source": [
    "#TF-IDF\n",
    "tf_idf_vect = TfidfVectorizer()\n",
    "tf_idf_counts = tf_idf_vect.fit_transform(sentiment_data_df.sentence)\n",
    "print('First 10 Feature Names:', tf_idf_vect.get_feature_names()[0:10])\n",
    "print('TF-IDF Matrix Size:', tf_idf_counts.shape)"
   ]
  },
  {
   "cell_type": "code",
   "execution_count": null,
   "metadata": {},
   "outputs": [],
   "source": [
    "#visualize the 20 terms with the highest values in the TF-IDF Matrix and compare it with the highest values in the \n",
    "#Count Frequency Matrix\n",
    "n = 20\n",
    "term_tf_idf = np.asarray(tf_idf_counts.sum(axis=0))[0]\n",
    "term_tf_idf_df = pd.DataFrame({'terms': tf_idf_vect.get_feature_names(), \n",
    "                                            'counts': term_tf_idf})\n",
    "ordered_term_tf_idf_df = term_tf_idf_df.sort_values(by = 'counts', ascending = False)\n",
    "\n",
    "ordered_tf_idf_data_sample = go.Bar(\n",
    "            x=[\"term_\"+str(i) for i in ordered_term_tf_idf_df['terms']][:n],\n",
    "            y=ordered_term_tf_idf_df['counts'][:n],\n",
    "            name = \"TF-IDF\"\n",
    "    )\n",
    "\n",
    "ordered_counts_data_sample = go.Bar(\n",
    "            x=[\"term_\"+str(i) for i in ordered_term_frequencies_df['terms'][:n]],\n",
    "            y=ordered_term_frequencies_df['counts'][:n],\n",
    "            name = \"Word Counts\"\n",
    "    )\n",
    "\n",
    "fig = tools.make_subplots(rows=1, cols=2, subplot_titles=('TF-IDF', 'Word Counts'))\n",
    "\n",
    "fig.append_trace(ordered_tf_idf_data_sample, 1, 1)\n",
    "fig.append_trace(ordered_counts_data_sample, 1, 2)\n",
    "\n",
    "py.iplot(fig, filename = 'TF-IDF Ordered Data Terms vs Counts Ordered Data Terms')"
   ]
  },
  {
   "cell_type": "code",
   "execution_count": null,
   "metadata": {},
   "outputs": [],
   "source": [
    "#distance similarity\n",
    "#according to the textbook the cosine similarity is normally used when comparing documents because of the sparsity of the \n",
    "#document term matrix, so I'll compare sentences with the cosine similarity and also compare the sentences with the \n",
    "#pearson's correlation coefficient and extended jaccard coefficient\n",
    "\n",
    "#I'll show the results of comparing 5 random sentences with the same sentiment, I'm comparing sentences with the same\n",
    "#sentiment to increase the possibility of them having words in common\n",
    "for i in range(0,5):\n",
    "    #show cosine similarity and pearson's correlation coefficient of 2 random documents with negative sentiment (score == 0)\n",
    "    r_negative_sentences = sentiment_data_df[sentiment_data_df['score'] == '0'].sample(n = 2)\n",
    "    print('Sentences:')\n",
    "    for sentence in r_negative_sentences.sentence:\n",
    "        print('-%s' % sentence)\n",
    "    index1 = r_negative_sentences.index[0]\n",
    "    index2 = r_negative_sentences.index[1]\n",
    "    \n",
    "    #obtain the rows in the count frequency matrix corresponding to those indexes\n",
    "    count_row1 = frequency_counts[index1:index1+1]\n",
    "    count_row2 = frequency_counts[index2:index2+1]\n",
    "\n",
    "    #obtain the rows in the TF-IDF matrix corresponding to those indexes\n",
    "    tf_idf_row1 = tf_idf_counts[index1:index1+1]\n",
    "    tf_idf_row2 = tf_idf_counts[index2:index2+1]\n",
    "\n",
    "    #cosine similarity\n",
    "    print(\"Cosine Similarity using term count:\",cosine_similarity(count_row1, count_row2)[0][0])\n",
    "    print(\"Cosine Similarity using TF-IDF:\",cosine_similarity(tf_idf_row1, tf_idf_row2)[0][0])\n",
    "    #Pearson's correlation coefficient\n",
    "    print(\"Pearson's correlation coefficient using term count:\",pearsonr(count_row1.toarray().ravel(),count_row2.toarray().ravel())[0])\n",
    "    print(\"Pearson's correlation coefficient using TF-IDF:\",pearsonr(tf_idf_row1.toarray().ravel(),tf_idf_row2.toarray().ravel())[0])\n",
    "    #Extended Jaccard coefficient\n",
    "    print(\"Extended Jaccard Coefficient using term count:\", dmh.extended_jaccard_coefficient(count_row1.toarray().ravel(), count_row2.toarray().ravel()))\n",
    "    print(\"Extended Jaccard Coefficient using TF-IDF:\", dmh.extended_jaccard_coefficient(tf_idf_row1.toarray().ravel(), tf_idf_row2.toarray().ravel()))\n",
    "    print(\"\\n\")\n",
    "    \n",
    "#for most executions the different similarities will be zero(or close to zero) because there are very few words in common between the sentences\n",
    "#even in the sentences that have the same sentiment (either positive or negative)"
   ]
  },
  {
   "cell_type": "code",
   "execution_count": null,
   "metadata": {},
   "outputs": [],
   "source": [
    "#if we calculate the cosine relation of 2 sentences we know have at least one word in common we can observe a non zero value\n",
    "#for both the term count vector and the Tf-IDF vector\n",
    "\n",
    "#known negative sentence indexes with common words\n",
    "index1 = 1455\n",
    "index2 = 1178\n",
    "print('Sentences:')\n",
    "print('-%s' % sentiment_data_df.iloc[index1].sentence)\n",
    "print('-%s' % sentiment_data_df.iloc[index2].sentence)\n",
    "#obtain the rows in the count frequency matrix corresponding to those indexes\n",
    "count_row1 = frequency_counts[index1:index1+1]\n",
    "count_row2 = frequency_counts[index2:index2+1]\n",
    "\n",
    "#obtain the rows in the TF-IDF matrix corresponding to those indexes\n",
    "tf_idf_row1 = tf_idf_counts[index1:index1+1]\n",
    "tf_idf_row2 = tf_idf_counts[index2:index2+1]\n",
    "\n",
    "#similarities\n",
    "print(\"Cosine Similarity of term count:\",cosine_similarity(count_row1, count_row2)[0][0])\n",
    "print(\"Cosine Similarity of TF-IDF:\",cosine_similarity(tf_idf_row1, tf_idf_row2)[0][0])\n",
    "print(\"Pearson's correlation coefficient using term count:\",pearsonr(count_row1.toarray().ravel(),count_row2.toarray().ravel())[0])\n",
    "print(\"Pearson's correlation coefficient using TD-IDF:\",pearsonr(tf_idf_row1.toarray().ravel(),tf_idf_row2.toarray().ravel())[0])\n",
    "print(\"Extended Jaccard Coefficient using term count:\", dmh.extended_jaccard_coefficient(count_row1.toarray().ravel(), count_row2.toarray().ravel()))\n",
    "print(\"Extended Jaccard Coefficient using TF-IDF:\", dmh.extended_jaccard_coefficient(tf_idf_row1.toarray().ravel(), tf_idf_row2.toarray().ravel()))"
   ]
  },
  {
   "cell_type": "code",
   "execution_count": null,
   "metadata": {},
   "outputs": [],
   "source": [
    "#for every similarity measure used we can observe the similarity of the vectors using the TF-IDF counts is always lower to the\n",
    "#similarity of the vectors using the actual word counts"
   ]
  },
  {
   "cell_type": "code",
   "execution_count": null,
   "metadata": {},
   "outputs": [],
   "source": [
    "#Naive Bayes classifiers\n",
    "#term frequency\n",
    "mnb_term_frequency = MultinomialNB()\n",
    "mnb_term_frequency.fit(frequency_counts, sentiment_data_df['score'].values)\n",
    "\n",
    "#TF-IDF\n",
    "mnb_tf_idf = MultinomialNB()\n",
    "mnb_tf_idf.fit(tf_idf_counts, sentiment_data_df['score'].values)"
   ]
  },
  {
   "cell_type": "code",
   "execution_count": null,
   "metadata": {},
   "outputs": [],
   "source": [
    "#testing the accuracy\n",
    "#test with a single random sentence from the data set\n",
    "r_sentence = sentiment_data_df.sample(n = 1)\n",
    "print('Sentence:',r_sentence.iloc[0].sentence,'\\nReal Score:', r_sentence.iloc[0].score)\n",
    "r_sentence_index = r_sentence.index[0]\n",
    "print('Term Frequency MNB Prediction: ', mnb_term_frequency.predict(frequency_counts[r_sentence_index:r_sentence_index+1])[0])\n",
    "print('TF-IDF MNB Prediction: ', mnb_tf_idf.predict(tf_idf_counts[r_sentence_index:r_sentence_index+1])[0])"
   ]
  },
  {
   "cell_type": "code",
   "execution_count": null,
   "metadata": {},
   "outputs": [],
   "source": [
    "#obtain the accuracy of both models comparing the predicted values with the actual scores of all the sentences in the data set\n",
    "total_sentences = len(sentiment_data_df)\n",
    "tf_correct_prediction = 0\n",
    "tf_idf_correct_prediction = 0\n",
    "for index, row in sentiment_data_df.iterrows():\n",
    "\n",
    "    tf_prediction = mnb_term_frequency.predict(frequency_counts[index:index+1])[0]\n",
    "    if row.score == tf_prediction:\n",
    "        tf_correct_prediction+=1\n",
    "    \n",
    "    tf_idf_prediction = mnb_tf_idf.predict(tf_idf_counts[index:index+1])[0]\n",
    "    if row.score == tf_idf_prediction:\n",
    "        tf_idf_correct_prediction+=1\n",
    "    \n",
    "print('Term Frequency MNB Prediction Accuracy: %.2f%%' % ((tf_correct_prediction/total_sentences)*100))\n",
    "print('TF-IDF MNB Prediction Accuracy: %.2f%%' % ((tf_idf_correct_prediction/total_sentences)*100))\n"
   ]
  },
  {
   "cell_type": "code",
   "execution_count": null,
   "metadata": {},
   "outputs": [],
   "source": [
    "#testing with a sentences that are not in the dataset\n",
    "negative_sentence = \"the worst pizza I have ever eaten\"\n",
    "n_word_freq = count_vect.transform([negative_sentence]).toarray()\n",
    "n_word_tf_idf = tf_idf_vect.transform([negative_sentence]).toarray()\n",
    "print('Term Frequency MNB Prediction for negative sentence: ', mnb_term_frequency.predict(n_word_freq[0:1])[0])\n",
    "print('TF-IDF MNB Prediction for negative sentence: ', mnb_tf_idf.predict(n_word_tf_idf[0:1])[0])\n",
    "\n",
    "positive_sentence = \"the most delicious pizza I have tried\"\n",
    "p_word_freq = count_vect.transform([positive_sentence]).toarray()\n",
    "p_word_tf_idf = tf_idf_vect.transform([positive_sentence]).toarray()\n",
    "print('Term Frequency MNB Prediction for positive sentence: ', mnb_term_frequency.predict(p_word_freq[0:1])[0])\n",
    "print('TF-IDF MNB Prediction for positive sentence: ', mnb_tf_idf.predict(p_word_tf_idf[0:1])[0])"
   ]
  },
  {
   "cell_type": "code",
   "execution_count": null,
   "metadata": {},
   "outputs": [],
   "source": []
  }
 ],
 "metadata": {
  "kernelspec": {
   "display_name": "Python 3",
   "language": "python",
   "name": "python3"
  },
  "language_info": {
   "codemirror_mode": {
    "name": "ipython",
    "version": 3
   },
   "file_extension": ".py",
   "mimetype": "text/x-python",
   "name": "python",
   "nbconvert_exporter": "python",
   "pygments_lexer": "ipython3",
   "version": "3.7.0"
  }
 },
 "nbformat": 4,
 "nbformat_minor": 2
}
